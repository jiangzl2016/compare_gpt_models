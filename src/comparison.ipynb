{
 "cells": [
  {
   "cell_type": "code",
   "execution_count": 40,
   "metadata": {},
   "outputs": [],
   "source": [
    "import sys\n",
    "import os\n",
    "from src.utils.gpt import GPT\n",
    "from src.utils.data_utils import cnn_news_loader, sample_cnn_news\n",
    "import tiktoken\n",
    "from dotenv import dotenv_values\n",
    "import ollama\n",
    "\n",
    "configs = dotenv_values(\"src/.env\")\n",
    "\n",
    "SEED = 10\n",
    "N_news = 1000\n",
    "N_reviews = 1000\n",
    "MAX_TOKENS = 100"
   ]
  },
  {
   "cell_type": "markdown",
   "metadata": {},
   "source": [
    "## Part I: Summarization\n",
    "\n",
    "**Dataset:** \n",
    "* CNN/ Daily Mail dataset contain 300k English-language news article written by journalists at CNN and Daily Mail. The news article are paired with human-written summaries, which serve as ground truth. We will sample a subset from the testing bin. \n",
    "* The dataset can be downloaded at https://huggingface.co/datasets/abisee/cnn_dailymail/tree/main/3.0.0 under name `test-00000-of-00001.parquet`. Save the dataset to `data/cnn_news/test/` folder.\n"
   ]
  },
  {
   "cell_type": "code",
   "execution_count": 2,
   "metadata": {},
   "outputs": [
    {
     "name": "stdout",
     "output_type": "stream",
     "text": [
      "Total number of news articles: 11490\n",
      "Sampled news articles: 1000\n"
     ]
    }
   ],
   "source": [
    "# Explore CNN news data\n",
    "\n",
    "import pandas as pd\n",
    "\n",
    "test_news = cnn_news_loader(\"data/cnn_news/test/test-00000-of-00001.parquet\")\n",
    "print(\"Total number of news articles:\", len(test_news))\n",
    "\n",
    "# Sample a few news articles\n",
    "sampled_news = sample_cnn_news(test_news, N_news, SEED)\n",
    "print(\"Sampled news articles:\", len(sampled_news))"
   ]
  },
  {
   "cell_type": "code",
   "execution_count": 3,
   "metadata": {},
   "outputs": [
    {
     "name": "stdout",
     "output_type": "stream",
     "text": [
      "News article: 1\n",
      "Article:  A convicted fraudster stole £17,000 from the City firm where she worked after she started embezzling money on her second day in the job. Gabrielle Yinka Saunders, 32, used company credit cards to pay for her £10,000 wedding, as well as a £5,000 honeymoon in the Seychelles. She was arrested at Heathrow when she returned from the honeymoon - but now she has been spared jail even though a court heard that she had been convicted of fraud twice previously. Just married: But Gabrielle Yinka Saunders, pictured during her wedding to David Osborne, stole £17,000 to pay for the ceremony and her luxury honeymoon . Fraud: Saunders, pictured outside the Old Bailey, admitted cheating her company out of thousands of pounds . Saunders, also known as Gabriella Osborne since getting married at Belair House in Dulwich last September, stole £35,000 from her previous employer PriceWaterhouseCoopers, where she worked as a tax accountant. After serving a jail sentence, she started a £40,000-a-year job as a personal assistant at Insight Investments in June last year. But she proceeded to embezzle a total of £17,000 using her colleagues' credit cards - including £600 for flowers, £270 on a new watch, £210 on a new outfit and £400 for a mobile phone. The Old Bailey heard Saunders came to the UK from Nigeria and graduated from Southampton University with a law degree in 2004, before starting work at PwC. While working at the multinational firm, Saunders forged taxi receipts to destinations across the country at up to £250 a time, then signed them off by faking a colleague's signature. Couple: Saunders was convicted of fraud twice before her latest offence . Free: Saunders, pictured with her husband in an engagement photo, was spared jail . Celebration: But Saunders was arrested at Heathrow when the couple returned from their honeymoon . In 2007 she was jailed for six months for fraud, and in 2011 she was again convicted of fraud but spared jail after a court heard she had stolen money from neighbour using credit cards. The day after Saunders started working at Insight Investments in June, she charged £5,272 to a colleague's credit card in order to pay travel agent Trailfinders for her luxury honeymoon with husband David Osborne. Mugshot: Saunders pictured after she was jailed for a £35,000 fraud in 2007 . In September she used another colleague's card to pay £10,254 to Belair House, £268.20 to the jeweller Andrew Charles, £597 to PESH flowers, £208.44 to fashion store ASOS and £390 to EE T-mobile. Prosecutor Roger Daniells-Smith said: 'She paid for a prestige wedding venue, she paid for the flowers, she paid for her honeymoon outfit and clothing. 'She paid for phone calls to make these arrangements and she paid for the gift of a watch. She paid for the honeymoon which was a first-class trip to Dubai and then on to the Seychelles. 'They were arrested at Heathrow when they returned to the UK and she made no comment in interview, but it was clear from the evidence that she was solely responsible for these frauds.' Saunders, from Camberwell in south London, admitted seven counts of fraud totalling £16,990, and was sentenced to 15 months' imprisonment suspended for two years, with 200 hours of unpaid work. Judge Stephen Gullick decided against jailing her after he was told that she had repaid the money and was retraining as a teacher. He said: 'You have a singularly unimpressive record and you have already served a prison sentence some time ago. Pricey: Saunders spent £10,000 of her firm's money to book Belair House for her wedding reception . Honeymoon: She also stole £5,000 to pay for a luxury post-wedding break in the Seychelles . 'You did not disclose your previous dishonesty to your employers, who were prepared to take you on as an administrative assistant on a good salary. 'The fact is within days you were prepared to take advantage. You effectively defrauded others to the tune of £17,000, all of which has been paid back. That money was used to finance your wedding and the subsequent honeymoon. 'You have now started working in a completely different environment. I hope they will never place you in a position of trust with anything to do with money. 'These were serious offences but it appears you are turning your life around. If you continue to commit offences of dishonest of this nature you will eventually receive a very long sentence of imprisonment indeed.'\n",
      "Highlights:  Gabrielle Yinka Saunders, 32, stole money from Insight Investments on the day after she started working there .\n",
      "Used company money to pay for £10,000 wedding and £5,000 honeymoon .\n",
      "But she was spared jail despite having previous fraud convictions .\n",
      "Saunders stole £35,000 from PwC and was jailed for six months in 2007 .\n",
      "\n",
      "\n",
      "News article: 2\n",
      "Article:  A newborn baby girl abandoned in an amusement arcade was found face down in a toilet bowl after her 'mother gave birth in the lavatory', it has been revealed. It is believed the girl, named April by staff at the Ormskirk hospital where she is being treated, might have been delivered at Silcock's Amusement Arcade in Nevill Street, Southport, hours before she was discovered. Merseyside Police had released an image of the 6lb 9oz baby girl, wearing a pink playsuit, as they sought to identify her mother. In a statement yesterday afternoon, officers said they had traced the mother to an address in the Merseyside area. Scroll down for video . Officers say they have found the mother of baby April (pictured). Sniffer dogs had been deployed in the area after the discovery in the disabled toilets of an arcade . Police earlier released a CCTV image of a woman they were looking to trace after a newborn baby was found at Silcock’s Amusement Arcade, on Neville Street, Southport last night . Amusement arcade employee Christina Hodskinson found baby April when a colleague said the toilets needed cleaning. She was quickly joined by fellow worker Warren Chadwick who came to help . Police believe April may have been 'born where she was found', Sky reported today. She was just hours old when she was discovered. Staff at the amusement arcade earlier spoke of the moment the baby was whisked from the toilet bowl when a father's paternal instincts kicked in. Christina Hodskinson, 44, discovered the newborn, who has since been named baby April by hospital staff, after a colleague said the toilets needed cleaning. She was quickly joined by fellow employee Warren Chadwick, 36, who Ms Hodskinson said 'grabbed the baby out of the toilet'. Mr Chadwick, who works at Silcock’s Amusement Arcade, on Neville Street, Southport where the baby was found at around 6.50pm yesterday, told how his paternal instinct kicked in immediately. He said: 'I saw the baby and it was just instant, I grabbed her out and patted her back and she started to cry. 'Some customers got some towels and we wrapped her up and stood under the heaters. 'The police got here really quickly, I sat with her in the police car to keep her warm and then we rushed straight to hospital. Paternal instinct: Warren Chadwick, who works at Silcock’s Amusement Arcade, told how April let out a cry when he patted her back after pulling her from the toilet. He said his paternal instinct kicked in immediately . Abandoned: Police outside Silcock's Amusement Arcade in Southport where staff found a newborn baby in the disabled toilets. A search was carried out for the mother but she has since been found . 'She was ice cold when I pulled her out so they kept her in an incubator. 'It was just good to see the colour come back in her face, it was a relief.' The infant was taken to Ormskirk Hospital where she is described as 'safe and well'. Police were searching for the missing mother of baby April and released a CCTV image of a woman they were looking to trace earlier today. The mother has now been found, Merseyside Police have said. A spokesman said: 'Merseyside Police can confirm the mother of a newborn found in Southport on Thursday, 16 April has this afternoon been found. 'She was found within the Merseyside area and is currently receiving medical treatment. Superintendent Claire Richards, said: 'I would like to thank the local community, the online community and the media for their assistance in this matter.' Ms Hodskinson spoke of how she found the baby after walking into the arcade's disabled toilets to give them a clean. 'Safe and well': Baby April (pictured) was taken to Ormskirk Hospital where she is being cared for by staff . The baby girl, found in the disabled toilets at the arcade (pictured) on Neville Street, has been named April by staff caring for her at Ormskirk Hospital. April is said to be 'safe and well' She said: 'I noticed that there were some things out of place. We checked the bin and there was nothing there and I just thought something wasn't right. 'So I went back to the bathroom with another member of staff, Pauline. 'She opened the toilet and starting screaming \"there's a baby inside!\" 'My colleague Warren was there straightaway and he grabbed the baby out of the toilet.' Police said the birth appeared to have been unsupervised.\n",
      "Highlights:  Arcade staff discovered the baby girl in the disabled toilets last night .\n",
      "The newborn was taken to hospital and is described as 'safe and well'\n",
      "The baby has been named April by staff at Ormskirk Hospital in Southport .\n",
      "Police say the mother has been found and is receiving medical treatment .\n",
      "\n",
      "\n",
      "News article: 3\n",
      "Article:  After a fire took a family's home of four years leaving them without anything, a Georgia mother of six is making a desperate plea for help. Kalimah Dixon said she was awakened by a neighbor yelling there was a fire early on Monday morning, and was lucky to get her children, aged one to 14, out of the Decatur condo safely. However, all that was left of her rented condo was a pile of rubble, and in her efforts to get her family back on their feet, she is asking for assistance. 'My children are homeless. They have nothing. They lost everything,' Dixon told Channel 2. Scroll down for video . A mother of six said her family has nothing after fire reduced their Georgia condo to a pile of rubble (above Kalimah Dixon with her five of her six children) The Dekalb County mother said the fire happened early on Monday and that she managed to get all of her children safely out (remains of the condo following the fire above) While Dixon was renting the Condo in the last four years, she had quit working to enroll full time in school to complete her degree in business management. But now she is finding it difficult to get a lease for a new permanent home  while being unemployed. As the mother of three sons and three daughters shuffles to give her kids stability, she is currently staying with a friend, far from her children's Decatur schools - where On Tuesday, Georgia students are required to take a standardized test. 'Yes, it starts Tuesday and I don't even know where I'm going to be on Monday,' said Dixon. In the last four years while Dixon rented the condo, she had quit working to enroll full time in school to complete her degree in business management. Now she said she is finding it difficult to get a lease while unemployed (pictured right and left with her children) Dixon said on Monday as the fire broke out before she knew it the whole roof had been engulfed in flames (above aftermath of the fire) Following the fire, the mother of six said: 'My children are homeless. They have nothing. They lost everything' She said in the past few days, the American Red Cross has assisted her as she searched for a place to live, but as she has looked to shelters for help, they turn her away. 'They'll take three of my children but they won't take the other three or my son is too old or they have any space at all,' Dixon told Channel 2. Dixon has since started a GoFundMe page which on Sunday had raised $4,619 in donations. Dixon has started a GoFundMe page which has raised $4,619 in donations so far . On the site she wrote: 'I'm humbly asking for assistance for me and my children we currently suffered a tremendous loss due to a fire early Monday morning. 'On top of losing everything we haven't been able to receive housing assistance rendering us homeless. 'If you could find it in you're hearts to assist it would be greatly appreciated every bit counts even prayers thank you.'\n",
      "Highlights:  Kalimah Dixon of Georgia lost condo and belongings in fire on Monday .\n",
      "She said her children, aged one to 14, now have nothing .\n",
      "Mother of three girls and three boys said American Red Cross has helped .\n",
      "But, she said shelters turn the family away while she looks for place to live .\n",
      "\n",
      "\n"
     ]
    }
   ],
   "source": [
    "# Look at 3 news articles in detail\n",
    "\n",
    "for i in range(3):\n",
    "    print(\"News article:\", i+1)\n",
    "    print(\"Article: \",sampled_news.iloc[i][\"article\"])\n",
    "    print(\"Highlights: \", sampled_news.iloc[i][\"highlights\"])\n",
    "    print(\"\\n\")"
   ]
  },
  {
   "cell_type": "code",
   "execution_count": 4,
   "metadata": {},
   "outputs": [
    {
     "name": "stdout",
     "output_type": "stream",
     "text": [
      "66.479\n"
     ]
    }
   ],
   "source": [
    "# Average summary token size\n",
    "\n",
    "encoding = tiktoken.encoding_for_model(\"gpt-3.5-turbo\")\n",
    "tokens = sampled_news[\"highlights\"].apply(lambda x: len(encoding.encode(x)))\n",
    "print(tokens.mean())"
   ]
  },
  {
   "cell_type": "code",
   "execution_count": 41,
   "metadata": {},
   "outputs": [],
   "source": [
    "# Generate news summary for each news article in sampled_news by using GPT-3.5-turbo and GPT-4o-mini models\n",
    "# Save the summary in a new column in the dataframe, named \"summary_gpt3\" and \"summary_gpt4\"\n",
    "\n",
    "# Load GPT models\n",
    "api_key = configs[\"OPENAI_API_KEY\"]\n",
    "gpt3 = GPT(api_key,\"gpt-3.5-turbo\")\n",
    "gpt4 = GPT(api_key,\"gpt-4o-mini\")\n",
    "\n",
    "# Define the function to generate summary\n",
    "def generate_summary_per_row(df, model, column_name, max_tokens):\n",
    "    # Generate summary for each row in the dataframe\n",
    "    df = df.copy()\n",
    "    df[column_name] = df[\"article\"].apply(lambda x: model._summarize(x, max_tokens))\n",
    "    return df\n",
    "\n",
    "\n",
    "# Llama3 model\n",
    "def summarize_text_llama3(model, text, max_tokens=200):\n",
    "    response = ollama.chat(model=model, messages=[\n",
    "        {'role': 'system', 'content': 'You are a helpful assistant.'},\n",
    "        {'role': 'user',\n",
    "          'content': f'Summarize the following news article within {max_tokens} tokens:\\n {text}.\\nSummary:',\n",
    "        }\n",
    "    ])\n",
    "    result = response['message']['content']\n",
    "    return result\n",
    "\n",
    "\n",
    "def classify_sentiment_llama3(model, text):\n",
    "    response = ollama.chat(model=model, messages=[\n",
    "        {'role': 'system', 'content': 'You are a helpful assistant.'},\n",
    "        {'role': 'user', 'content': f'Classify the sentiment of the following movie reviews and output the sentiment as a single word \"positive\" or \"negative\". Text:\\n{text}',\n",
    "        }\n",
    "    ])\n",
    "    result = response['message']['content']\n",
    "    return result\n",
    "\n",
    "\n",
    "def generate_summary_llama3_per_row(df, model, column_name, max_tokens):\n",
    "    # Generate summary for each row in the dataframe\n",
    "    df = df.copy()\n",
    "    df[column_name] = df[\"article\"].apply(lambda x: summarize_text_llama3(model, x, max_tokens))\n",
    "    return df"
   ]
  },
  {
   "cell_type": "code",
   "execution_count": 9,
   "metadata": {},
   "outputs": [
    {
     "name": "stdout",
     "output_type": "stream",
     "text": [
      "Time taken to generate summary for each news article using GPT-3.5-turbo:  1586.7160348892212\n",
      "Time taken to generate summary for each news article using GPT-4o-mini:  1397.1406872272491\n"
     ]
    }
   ],
   "source": [
    "# Track the time taken to generate summary for each news article\n",
    "\n",
    "import time\n",
    "\n",
    "# $14.5 -> $13.74\n",
    "\n",
    "# GPT-3.5-turbo\n",
    "start_time_1 = time.time()\n",
    "sampled_news = generate_summary_per_row(sampled_news, gpt3, \"summary_gpt3\", MAX_TOKENS)\n",
    "end_time_1 = time.time()\n",
    "print(\"Time taken to generate summary for each news article using GPT-3.5-turbo: \", end_time_1 - start_time_1)\n",
    "\n",
    "\n",
    "# GPT-4o-mini\n",
    "start_time_2 = time.time()\n",
    "sampled_news = generate_summary_per_row(sampled_news, gpt4, \"summary_gpt4\", MAX_TOKENS)\n",
    "end_time_2 = time.time()\n",
    "print(\"Time taken to generate summary for each news article using GPT-4o-mini: \", end_time_2 - start_time_2)\n",
    "\n",
    "sampled_news.to_csv('data/cnn_news/output/sampled_news_gpt.csv', index=False)"
   ]
  },
  {
   "cell_type": "code",
   "execution_count": 43,
   "metadata": {},
   "outputs": [
    {
     "name": "stdout",
     "output_type": "stream",
     "text": [
      "Time taken to generate summary for each news article using Llama 3.1  11266.976531028748\n"
     ]
    }
   ],
   "source": [
    "# Llama 3.1\n",
    "start_time_3 = time.time()\n",
    "sampled_news = generate_summary_llama3_per_row(sampled_news, \"llama3.1\", \"summary_llama3\", MAX_TOKENS)\n",
    "end_time_3 = time.time()\n",
    "print(\"Time taken to generate summary for each news article using Llama 3.1 \", end_time_3 - start_time_3)\n",
    "\n",
    "sampled_news.to_csv('data/cnn_news/output/sampled_news_gpt_llama3.csv', index=False)"
   ]
  },
  {
   "cell_type": "markdown",
   "metadata": {},
   "source": [
    "### Evaluation\n",
    "* Rouge score, i.e. 1-gram, 2-gram and longest common subsequence.\n",
    "* Bleu score"
   ]
  },
  {
   "cell_type": "code",
   "execution_count": 44,
   "metadata": {},
   "outputs": [
    {
     "name": "stdout",
     "output_type": "stream",
     "text": [
      "GPT-3.5-turbo\n",
      "ROUGE-1:  0.3430620294062374\n",
      "ROUGE-2:  0.1038963261020401\n",
      "ROUGE-L:  0.20981706125120478\n",
      "\n",
      "\n",
      "GPT-4o-mini\n",
      "ROUGE-1:  0.36672165373927307\n",
      "ROUGE-2:  0.12355515098172702\n",
      "ROUGE-L:  0.22207151243856477\n"
     ]
    }
   ],
   "source": [
    "from src.utils.evaluation import evaluate_summary_performance, calculate_accuracy\n",
    "\n",
    "# GPT-3.5-turbo\n",
    "gpt3_news, gpt3_summary = sampled_news[\"highlights\"].tolist(), sampled_news[\"summary_gpt3\"].tolist()\n",
    "gpt3_rouge = evaluate_summary_performance(gpt3_news, gpt3_summary)\n",
    "\n",
    "# GPT-4o-mini\n",
    "gpt4_news, gpt4_summary = sampled_news[\"highlights\"].tolist(), sampled_news[\"summary_gpt4\"].tolist()\n",
    "gpt4_rouge = evaluate_summary_performance(gpt4_news, gpt4_summary)\n",
    "\n",
    "print(\"GPT-3.5-turbo\")\n",
    "print(\"ROUGE-1: \", gpt3_rouge['rouge1'])\n",
    "print(\"ROUGE-2: \", gpt3_rouge['rouge2'])\n",
    "print(\"ROUGE-L: \", gpt3_rouge['rougeL'])\n",
    "print(\"\\n\")\n",
    "print(\"GPT-4o-mini\")\n",
    "print(\"ROUGE-1: \", gpt4_rouge['rouge1'])\n",
    "print(\"ROUGE-2: \", gpt4_rouge['rouge2'])\n",
    "print(\"ROUGE-L: \", gpt4_rouge['rougeL'])"
   ]
  },
  {
   "cell_type": "code",
   "execution_count": 45,
   "metadata": {},
   "outputs": [
    {
     "name": "stdout",
     "output_type": "stream",
     "text": [
      "Llama3\n",
      "ROUGE-1:  0.3851959270138329\n",
      "ROUGE-2:  0.13993070303573268\n",
      "ROUGE-L:  0.2345538448687383\n"
     ]
    }
   ],
   "source": [
    "# Llama3\n",
    "\n",
    "llama3_news, llama3_summary = sampled_news[\"highlights\"].tolist(), sampled_news[\"summary_llama3\"].tolist()\n",
    "llama3_rouge = evaluate_summary_performance(llama3_news, llama3_summary)\n",
    "\n",
    "print(\"Llama3\")\n",
    "print(\"ROUGE-1: \", llama3_rouge['rouge1'])\n",
    "print(\"ROUGE-2: \", llama3_rouge['rouge2'])\n",
    "print(\"ROUGE-L: \", llama3_rouge['rougeL'])\n"
   ]
  },
  {
   "cell_type": "markdown",
   "metadata": {},
   "source": [
    "Show randomly selected examples and generated summaries"
   ]
  },
  {
   "cell_type": "code",
   "execution_count": 53,
   "metadata": {},
   "outputs": [
    {
     "name": "stdout",
     "output_type": "stream",
     "text": [
      "Article:  Ed Balls was today accused of 'letting the cat out of the bag' on tax rises after leaving the door open to trapping more middle-class workers in the 40p tax rate. In an interview the shadow chancellor repeatedly refused to rule out trying to balance the books by lowering the amount workers have to earn before they pay the higher income tax rate. The number of people paying 40p tax has already risen from about 2million to 5million in two decades, but the Tories have promised to lift the threshold if they are returned to power. Scroll down for video . Shadow chancellor Ed Balls, pictured giving a speech in Glasgow today, has repeatedly refused to rule out using the point at which the higher income tax rate kicks in to raise money to balance the books . The Shadow Chancellor was joined by the Scottish Labour Leader Jim Murphy at the Royal Concert hall in Glasgow today . Labour has vowed not to increase VAT or National Insurance as part of measures to bring down the deficit if they win the election. But pressed on income tax, Mr Balls refused to rule out freezing or lowering the threshold to raise millions from people earning more than £41,865. In an interview on ITV Westcountry, Mr Balls was asked if was 'leaving the door open tonight to changing the tax thresholds that mean people in that 40 per cent bracket could be paying more tax under you'. The shadow chancellor refused to rule it out: 'What I would like to do is find ways in which I could have fewer people in the 40 per cent tax bracket. Of course I would. 'But I have to be honest with people. The deficit is going to be £90 billion. I have got to find a way to get the deficit down in a careful, and staged and balanced way.' He said he would not be 'raising the higher rate of income tax' but left open the possibility of holding or lowering the point at which it kicks in. 'What I cannot do is go through every detail of the tax system. It's really complicated. 'I am not going to make unfunded commitment to do so, because I fear in the end that will be a VAT rise from the Tories. You won't get that from me.' Pressed on whether he plans to change the income tax bands, Mr Balls said: 'I can't go through every detail.' He went on: 'I can make a promise not to increase the basic rate of income tax or the higher rate of income tax. The threshold is also an important detail and that's complex.' Chancellor George Osborne, visiting the Marston's Brewery in Wolverhampton with David Cameron today. claimed Mr Balls had 'let the cat out of the bag . The number of people paying 40p tax has already risen by about two million to five million in two decades . Chancellor George Osborne said: 'Ed Balls has let the cat out of the bag and confirmed a tax assault on middle earners. He has confirmed that he and Ed Miliband will put up taxes on middle Britain. It is part of Labour's £3,000 tax rise for working families. 'By contrast, the Conservative plan is to increase to £50,000 the threshold at which people pay the higher rate of tax. So there is a clear choice. 'Economic security and lower taxes with David Cameron and our long-term economic plan. Or economic chaos and higher taxes under Ed Miliband.' David Cameron has warned the 40p tax rate is hitting too many people on 'middle incomes'. The Prime Minister claims it is wrong that millions of people doing normal jobs like teaching are now paying a tax rate that was 'only ever meant for the better off'. The Conservatives go into the election pledging to raise the threshold for paying 40p tax from £41,865 to £50,000 by 2020. Workers would also pay no income tax on the first £12,500 they earn. But Labour says the policy is a £7billion unfunded tax cut at a time when billions are needed in spending cuts. A Labour spokesman said: 'Under the Tories around 2 million more people have been dragged into the 40p tax band, but Labour supported the increases in the 40p threshold in the recent Budget. 'Tory promises to raise the 40p threshold further are completely unfunded and will cost billions of pounds. Together with their extreme spending plans, these unfunded commitments will mean the Tories end up raising VAT again and cutting the NHS. 'When we make tax promises, such as introducing a lower 10p starting rate of tax to help millions on middle and low incomes, we have set out where the money is coming from. 'Working people are paying more under this government, which is why the only tax changes we are proposing are on the very richest in society like reversing the Tory tax cut for millionaires.'\n",
      "Highlights:  Shadow chancellor refuses to rule out using threshold to raise money .\n",
      "Vows not to hike income tax rate but not trapping more people in 40p rate .\n",
      "Chancellor George Osborne says Balls has 'let the cat out of the bag .\n",
      "Tories promise to raise threshold from £41,865 to £50,000 by 2020 .\n",
      "Labour says the plan amounts to a £7billion unfunded commitment .\n",
      "Summary GPT-3.5-turbo:  Shadow Chancellor Ed Balls hinted at possible tax rises by not ruling out lowering the threshold for the 40p tax rate. Labour vows not to increase VAT or National Insurance but may adjust income tax. Conservatives aim to raise the threshold to £50,000 by 2020. The parties clash over tax policies ahead of the election, with Labour accusing the Tories of unfunded promises. Tories criticize Labour's approach as leading to higher taxes and economic chaos, emphasizing their plan for economic security and lower taxes.\n",
      "Summary GPT-4o-mini:  Ed Balls, Labour's shadow chancellor, faced criticism for not ruling out changes to the income tax threshold that could increase the number of middle-class workers paying the 40p tax rate. While promising not to raise the higher rate, he acknowledged the need to address a £90 billion deficit, which may involve adjusting tax thresholds. Chancellor George Osborne accused Balls of planning tax increases for middle earners, contrasting Labour's approach with the Conservatives' pledge to raise the 40p threshold from £41,865 to £50,000 by 2020.\n",
      "Summary Llama3:  Here's a summary of the article within 100 tokens:\n",
      "\n",
      "Ed Balls, Labour's shadow chancellor, has been accused of \"letting the cat out of the bag\" by implying that he may raise taxes on middle-class workers to balance the books. He refused to rule out freezing or lowering the threshold for paying the higher income tax rate (40p), which could affect millions of people. The Tories have promised to lift the threshold to £50,000 by 2020. Chancellor George Osborne called Balls' comments a \"tax assault on middle earners\".\n",
      "\n",
      "\n",
      "Article:  Bristol City will become the first Football League club to win promotion this season should they beat Bradford on Tuesday night. The League One leaders managed to come away from second-placed Preston North End unscathed, drawing 1-1 thanks to Aaron Wilbraham’s equaliser after Jermaine Beckford had opened the scoring just before the hour. Regardless, Steve Cotterill’s side had been destined not to seal promotion at Deepdale because results elsewhere didn’t go their way. Bristol City manager Steve Cotterill was happy to avoid defeat against Preston on Saturday . Three points at Bradford on Tuesday will do the trick. It would take something to go seriously awry for the Robins not to be returning to the second tier after a two-year absence, and they did their job well enough to prevent any late scares in the north west. ‘That’ll be good,’ Cotterill said. ‘We’ll digest that and try and prepare properly for the game. ‘It was important not to get beat here. If you look at it, if we had and then got nothing at Bradford (on Tuesday) then we’re stuck on 88 points. Preston would’ve gone to 83 points today and then have Gillingham at home. ‘You always look at the worst case scenario.’ Bristol City’s elevation to the second tier appears a formality, and Preston remain in pole position to join them. Nevertheless, manager Simon Grayson has warned his players not to get carried away. ‘We’ve said to the players we can only influence our own games, but it’s another point to our tally and another game chalked off,’ he said. ‘But there will be no complacency from the team, we know we have to keep working.’ Cotterill, meanwhile, has always gunned for the League One title rather than just promotion and this result preserved their eight-point lead over Preston, although they have played a game more. His squad are staying in a nearby hotel until the trip to Valley Parade and will train at Burnley in preparation.\n",
      "Highlights:  Bristol City held second-place Preston to 1-1 draw at Deepdale on Saturday .\n",
      "Robins could be first Football League club to win promotion on Tuesday .\n",
      "Steve Cotterill's side face Bradford at Valley Parade and win will be enough .\n",
      "City boss Cotterill was happy to avoid defeat against Preston after admitting he had thought about the worst case scenario .\n",
      "Summary GPT-3.5-turbo:  Bristol City could secure promotion by beating Bradford, maintaining their lead in League One. Preston also in contention but the focus is on winning the title, not just promotion. Teams remain cautious and focused on upcoming matches. Manager Cotterill emphasizes importance of staying undefeated.\n",
      "Summary GPT-4o-mini:  Bristol City can secure promotion to the Championship by winning against Bradford on Tuesday night. The League One leaders salvaged a 1-1 draw against second-placed Preston North End, with Aaron Wilbraham equalizing after Jermaine Beckford's goal. Manager Steve Cotterill is optimistic, noting the importance of avoiding defeat at Preston. City, leading by eight points over Preston, aims for the League One title amidst warnings from Preston's Simon Grayson about complacency. The team is training nearby before the crucial match.\n",
      "Summary Llama3:  Bristol City is on track to become the first Football League club to win promotion this season after drawing 1-1 with Preston North End on Saturday. A win over Bradford on Tuesday would seal their spot in the second tier, but manager Steve Cotterill warns that complacency will not be an option. Bristol City remains eight points clear of Preston, who have played a game less, and is well-positioned for promotion.\n",
      "\n",
      "\n",
      "Article:  A youngster has emulated Barcelona star Martin Montoya and scored an audacious 27-yard goal into a basketball hoop - twice. Schoolboy Frankie Franz watched the Spanish right-back pull off the staggering trick shot in a video recorded at Barcelona’s Ciutat Esportiva training ground earlier in the month. The viral clip shows the 23-year-old defender lifting the ball into the net to the sound of gasps from his team mates at the Catalonia club. Joking  that he could do the same with his mum and grandmother, nine-year-old Frankie, who is an academy player with Dagenham and Redbridge Football Club, took to the garden to have a go. He moved the basketball hoop into the middle of the goal and after a little run up sent the ball straight through the net first time. In the video he can be seen turning to face the camera looking absolutely gob-smacked as he places his hands behind his head. A slow motion look at the clip captures the trajectory of the ball, which bounces off the backboard and goes through the hoop below. His mother Lucy, 32, of Upminster, east London, said: ‘He loves football and after he saw the Barcelona player do the show he said ‘I’ll be able to do that’. Frankie decided to have a go at the trick shot after watching Barcelona star Martin Montoya pull it off in a video recorded at the club’s Ciutat Esportiva training ground . The nine-year-old kicks the ball and sends it straight through the net on the first time of trying just like Spanish right-back Montoya . The gob-smacked youngsters places his hands behind his head after scoring while Montoya (right) wheels away in celebration . ‘Me and my mum just said ‘really?’ and he went to get the net, pulled it over and bang - it went in first time. ‘Me and mum were like ‘oh my god’ we couldn’t believe it. ‘He is very good at football, but that was just amazing. It was very special.’ According to Lucy, although not captured on camera, the youngster had another go immediately after and netted again. \"I think he's got it down now,\" said Lucy, who helps run a building firm with husband Matt, 34. \"He is very confident but you can tell by the look on his face I think he was surprised too.\" The talented young centre midfielder has played football since he could walk and dreams of one day turning out for Real Madrid or Barcelona. The  young centre midfielder is an academy player with Dagenham and Redbridge Football Club and dreams of one day turning out for Real Madrid or Barcelona.\n",
      "Highlights:  Frankie Franz watched the  right-back pull off the audacious shot in a video .\n",
      "Nine-year-old joked with his mum and grandmother that he could make it .\n",
      "Youngster moved hoop into middle of the garden and twice achieved feat .\n",
      "Frankie is an academy player with Dagenham and Redbridge Football Club .\n",
      "He plays centre midfield and dreams of one day turning out for Barcelona .\n",
      "Summary GPT-3.5-turbo:  Nine-year-old Frankie mirrored Barcelona's Martin Montoya's remarkable 27-yard trick shot into a basketball hoop twice. Inspired by Montoya, Frankie replicated the trick effortlessly, stunning his mother and impressing with his skills. The young academy player dreams of playing for prestigious clubs like Real Madrid or Barcelona.\n",
      "Summary GPT-4o-mini:  Nine-year-old Frankie Franz replicated Barcelona star Martin Montoya's impressive 27-yard trick shot, scoring into a basketball hoop twice. Inspired by a viral video, Frankie moved the hoop and successfully shot the ball through the net on his first attempt, leaving him and his mother in disbelief. After scoring again off-camera, Frankie expressed his excitement. An academy player at Dagenham and Redbridge FC, he dreams of playing for top clubs like Real Madrid or Barcelona, showcasing his passion for football since childhood.\n",
      "Summary Llama3:  A 9-year-old boy named Frankie, who plays for the Dagenham and Redbridge Football Club's academy, attempted to emulate a trick shot done by Barcelona star Martin Montoya. He successfully scored an audacious goal into a basketball hoop from 27 yards out twice, with the ball bouncing off the backboard and going through the net below on both attempts. Frankie's mother said he was confident but also surprised himself after achieving the impressive feat.\n",
      "\n",
      "\n",
      "Article:  A student who was left with an unsightly cauliflower ear following a botched piercing says she wishes she had listened to her mother who told her not to get it done. Remmie, 18, had a thick bar put through her ear as an act of teenage rebellion, and initially hoped it would make her stand out from the crowd. But when the piercing became inflamed, Remmie was forced to remove the bar - and the resulting wound healed into a hazelnut-sized lump known as a keloid scar. Scroll down for video . Unsightly: Remmie was left with a hazelnut sized scar on the top of her ear following a piercing . Inflamed: After getting this bar put in, her ear became inflamed with led to a painful keloid scar . 'It looks vile, it's not pretty and makes me feel less confident,' says Remmie who appears on TLC reality series, Extreme Beauty Disasters. 'It's getting bigger and it's itchy. I had it done to look different, I look different now but not in a good way. People shout stuff and stare. 'It looks like I have a bit of chewing gum stuck on my ear. You just want to flick it off but you can't.' Her concerned mother, Victoria, who had always been against the piercing, added: 'I told her not to have it done. I'm worried about it getting bigger.' Vile: Remmie, 18, says the unsightly lump is 'vile' and has knocked her confidence badly . Desperate to get rid of the unsightly lump, Remmie was forced to seek the help of cosmetic surgeon Vik Vijh. Mr Vijh immediately diagnosed a keloid scar, which according to the British Skin Foundation, affects between 10 and 15 per cent of wounds. The scars, which usually take the form of a hard lump of tissue and are often larger than the original wound, are most frequently found on the shoulders and neck. Unfortunately, as Mr Vijh pointed out, removal operations frequently make things worse as the body goes into overdrive to heal the new wound. But much to the 18-year-old's relief, he also revealed that keloid removal operations on the ear are among the most likely to be successful. Much better: The teenager is now smiling again after a cosmetic surgeon managed to remove the scar . 'The good news is I can take these lumps away and reconstruct,' he explains. 'But there is a risk the scars could return.' Despite the risk, Remmie chose to go ahead and much to her delight, her ear has been returned to normal. 'My confidence is over the top,' she said afterwards. 'it's so much better. I feel like me again, it's nice to be back.'\n",
      "Highlights:  Remmie, 18, got a piercing across the top of her ear .\n",
      "She hoped it would make her stand out from the crowd .\n",
      "Went ahead with piercing against advice of her mother .\n",
      "Her body tried to heal the wound by producing scar tissue .\n",
      "Created an unsightly lump known as a keloid scar .\n",
      "Extreme Beauty Disasters is on TLC, Thursdays at 8pm .\n",
      "Summary GPT-3.5-turbo:  Remmie, 18, suffered a botched piercing resulting in a keloid scar on her ear. Feeling unconfident and seeking help, she underwent successful removal surgery with cosmetic surgeon Vik Vijh. Despite risks, Remmie's confidence is restored as her ear returns to normal, making her happy and relieved.\n",
      "Summary GPT-4o-mini:  Eighteen-year-old Remmie regrets getting a pierce that led to an unsightly keloid scar after her ear became inflamed. Initially hoping to stand out, she found herself embarrassed and lacking confidence due to the scar, which her mother warned against getting. Seeking help from cosmetic surgeon Vik Vijh, Remmie underwent successful removal of the scar, significantly boosting her confidence and restoring her appearance. Despite the possibility of the scar returning, she feels much better and true to herself again.\n",
      "Summary Llama3:  Here is a summary of the article in 100 tokens:\n",
      "\n",
      "An 18-year-old student got a piercing on her ear as an act of rebellion, but it became inflamed and left a keloid scar. The student, Remmie, says the scar is unsightly and has affected her confidence. Her mother had warned her against getting the piercing. A cosmetic surgeon was able to remove the scar, restoring Remmie's confidence and self-esteem.\n",
      "\n",
      "\n",
      "Article:  A restaurant customer in the Mexican border town of Tijuana was left horrified after witnessing staff butchering a dog to be served up as a pork dish on the menu. The authorities have closed a total of six Chinese restaurants in the local area since police raided the Lo Yen City restaurant in southern Tijuana following a tip-off from the disgusted client. The customer called in the cops after witnessing kitchen staff killing the dog, later intended to be served up masquerading as pork in the next chow mein. Scroll down for video . Disgusted: A restaurant customer in Tijuana was left horrified after witnessing staff butchering a dog to be served up as a pork dish on the menu. Pictured is a dead dog police recovered at the establishment . The authorities have closed a total of six Chinese restaurants in the local area since local police raided the Lo Yen City restaurant (pictured) in southern Tijuana . Officers conducting a raid of the restaurant on Wednesday morning discovered caged dogs in the kitchen, a decapitated puppy in the trash and the owner himself in the process of decapitating and butchering a canine carcass, putting the meat in a cooking pot. Owner Yu Yu Chou told local newspaper reporters: 'I admit to killing the dog, but the meat is for my own personal use, not for my customers.' Police received a tip-off from a restaurant client who heard the sounds of a howling dog at the back of the establishment. After peeking over the back fence to investigate, the horrified client witnessed two cooks in the act of killing the defenceless animal. In total five arrests were made at Mr Yu Yu Chou's restaurant, including three workers of Chinese nationality . An official was filmed pulling a beheaded dog from a storage barrel during the raid . Boast: The restaurant advertises the quality of its 'home-style food' but has had complaints from customers before about flies and cockroaches in their food . Rescued: Some dogs were found alive at the restaurant and were taken away by a local vet . Lucky: This dog was saved from the owner's knives by the police. The picture is a grab from a local news agency video of the property . Upon arrival at the scene, police officers said they witnessed the cooks hurriedly throw a decapitated dog carcass in a kitchen waste bin. Officers later saw the owner decapitating and butchering a dog in the back alley. The restaurant, which advertises the quality of its 'home-style food' claims never to have received complaints of using dog meat before. The owner, while handcuffed in the back of a police vehicle, said: 'We've had complaints from customers who have found hair, flies or cockroaches in their food, but never anything this serious.' The AFN news agency took video evidence of the police bust. It contains footage of a hair-strewn alley where the dogs were seen being butchered, a terrified dog chained to the wall and a forensics officer pulling a decapitated canine carcass – stiffened by rigor mortis – out of a kitchen waste bin. The animals, some of which survived, were removed from the scene in a veterinarian's van. Samples of meat were also taken from the kitchen fridges in order to determine the origin of the meat. Following local authorities' demands to investigate kitchens in other local oriental eating establishments, five other Chinese restaurants in the area did not open their doors to customers on Wednesday, leading many to question whether the cooking of dog meat has long been practiced in Tijuana. In total five arrests were made at Mr Yu Yu Chou's restaurant, including three workers of Chinese nationality. A spokesman for the Mexican Ministry of Health told local reporters following the incident that the city would be pursuing conviction of the Mr Yu Yu Chou, and that 'you can't play with the health of Tijuana'. The infamous frontier town in Baja California state sits directly on the United States border, just three miles from downtown San Diego. The town has long had a dangerous reputation, not least for the criminal cartel activity which sees drugs and humans trafficked across the border into the United States.\n",
      "Highlights:  Customer witnessed dog being butchered at Lo Yen City restaurant .\n",
      "It was killed to be served as a pork dish, it has been alleged .\n",
      "Police raided the restaurant and arrested five people, including the owner .\n",
      "Officials on the scene discovered a decapitated puppy in a rubbish bin .\n",
      "Summary GPT-3.5-turbo:  A customer in Tijuana witnessed staff butchering a dog to serve as pork at a Chinese restaurant. Police raided and shut down six eateries, rescuing live dogs. The owner claimed the meat was for personal use. Five arrests were made. Samples were taken for investigation, leading to broader scrutiny in the area, questioning if dog meat cooking is common. Authorities aim to convict the owner for endangering public health. The incident highlights Tijuana's dangerous reputation for criminal activities.\n",
      "Summary GPT-4o-mini:  A customer in Tijuana was horrified to witness staff at the Lo Yen City restaurant butchering a dog, intending to serve it as pork. Authorities raided the establishment, finding caged dogs and evidence of animal cruelty. Six Chinese restaurants were closed following the investigation. The restaurant owner admitted to killing the dog for personal use and claimed they had not received serious complaints before. Local health officials are pursuing a case against the owner, highlighting concerns about food safety and potential dog meat practices in the area. Some dogs were rescued during the raid.\n",
      "Summary Llama3:  A restaurant customer in Tijuana witnessed staff killing a dog to be served as pork in the Lo Yen City restaurant. The police raided the restaurant after receiving a tip-off and found caged dogs, a decapitated puppy, and the owner butchering a dog in the kitchen. Five arrests were made, including three Chinese workers, and six Chinese restaurants were closed in the local area. The owner claimed the meat was for personal use, not for customers, but authorities are pursuing conviction and questioning whether dog meat has been practiced in Tijuana kitchens.\n",
      "\n",
      "\n"
     ]
    }
   ],
   "source": [
    "# Pick 3 news articles at random \n",
    "# print the article, the actual highlights, the summary generated by GPT-3.5-turbo, GPT-4o-mini and Llama3\n",
    "\n",
    "import random\n",
    "\n",
    "random.seed(SEED)\n",
    "random_sample = sampled_news.sample(5)\n",
    "for row in random_sample.iterrows():\n",
    "    print(\"Article: \", row[1][\"article\"])\n",
    "    print(\"Highlights: \", row[1][\"highlights\"])\n",
    "    print(\"Summary GPT-3.5-turbo: \", row[1][\"summary_gpt3\"])\n",
    "    print(\"Summary GPT-4o-mini: \", row[1][\"summary_gpt4\"])\n",
    "    print(\"Summary Llama3: \", row[1][\"summary_llama3\"])\n",
    "    print(\"\\n\")"
   ]
  },
  {
   "cell_type": "markdown",
   "metadata": {},
   "source": [
    "## Part II: Sentiment Classification\n",
    "\n",
    "**Dataset:** \n",
    "\n",
    "IMDB movie reviews dataset contain 50k highly-polar movie reviews and binary-labeled sentiment, i.e. positive and negative."
   ]
  },
  {
   "cell_type": "code",
   "execution_count": 19,
   "metadata": {},
   "outputs": [
    {
     "name": "stdout",
     "output_type": "stream",
     "text": [
      "Total number of news articles: 50000\n",
      "Sentiment classes: ['positive', 'negative']\n",
      "Sampled news articles: 1000\n"
     ]
    }
   ],
   "source": [
    "from src.utils.data_utils import imdb_review_loader, sample_movie_review\n",
    "\n",
    "reviews, classes = imdb_review_loader(\"data/imdb_movie_reviews/IMDB_Dataset.csv\")\n",
    "print(\"Total number of news articles:\", len(reviews))\n",
    "print(\"Sentiment classes:\", classes)\n",
    "\n",
    "# Sample a few news articles\n",
    "sampled_reviews = sample_movie_review(reviews, N_reviews, SEED)\n",
    "print(\"Sampled news articles:\", len(sampled_reviews))"
   ]
  },
  {
   "cell_type": "code",
   "execution_count": 29,
   "metadata": {},
   "outputs": [
    {
     "data": {
      "text/plain": [
       "sentiment\n",
       "positive    510\n",
       "negative    490\n",
       "Name: count, dtype: int64"
      ]
     },
     "execution_count": 29,
     "metadata": {},
     "output_type": "execute_result"
    }
   ],
   "source": [
    "sampled_reviews['sentiment'].value_counts()"
   ]
  },
  {
   "cell_type": "code",
   "execution_count": 20,
   "metadata": {},
   "outputs": [
    {
     "data": {
      "text/html": [
       "<div>\n",
       "<style scoped>\n",
       "    .dataframe tbody tr th:only-of-type {\n",
       "        vertical-align: middle;\n",
       "    }\n",
       "\n",
       "    .dataframe tbody tr th {\n",
       "        vertical-align: top;\n",
       "    }\n",
       "\n",
       "    .dataframe thead th {\n",
       "        text-align: right;\n",
       "    }\n",
       "</style>\n",
       "<table border=\"1\" class=\"dataframe\">\n",
       "  <thead>\n",
       "    <tr style=\"text-align: right;\">\n",
       "      <th></th>\n",
       "      <th>review</th>\n",
       "      <th>sentiment</th>\n",
       "    </tr>\n",
       "  </thead>\n",
       "  <tbody>\n",
       "    <tr>\n",
       "      <th>27632</th>\n",
       "      <td>This is one of the very, very few films that a...</td>\n",
       "      <td>positive</td>\n",
       "    </tr>\n",
       "    <tr>\n",
       "      <th>36119</th>\n",
       "      <td>Fred \"The Hammer\" Williamson delivers another ...</td>\n",
       "      <td>negative</td>\n",
       "    </tr>\n",
       "    <tr>\n",
       "      <th>4796</th>\n",
       "      <td>When the trailer for Accepted first came up, m...</td>\n",
       "      <td>positive</td>\n",
       "    </tr>\n",
       "    <tr>\n",
       "      <th>3648</th>\n",
       "      <td>Buddy is an entertaining family film set in a ...</td>\n",
       "      <td>positive</td>\n",
       "    </tr>\n",
       "    <tr>\n",
       "      <th>24501</th>\n",
       "      <td>I thought the kids in the movie were great. I ...</td>\n",
       "      <td>positive</td>\n",
       "    </tr>\n",
       "    <tr>\n",
       "      <th>...</th>\n",
       "      <td>...</td>\n",
       "      <td>...</td>\n",
       "    </tr>\n",
       "    <tr>\n",
       "      <th>38289</th>\n",
       "      <td>I would rate this film high on my list of Ingr...</td>\n",
       "      <td>positive</td>\n",
       "    </tr>\n",
       "    <tr>\n",
       "      <th>12693</th>\n",
       "      <td>The main criticism of AT THE EARTH'S CORE is t...</td>\n",
       "      <td>positive</td>\n",
       "    </tr>\n",
       "    <tr>\n",
       "      <th>21049</th>\n",
       "      <td>It's obvious that the people who made 'Dead At...</td>\n",
       "      <td>negative</td>\n",
       "    </tr>\n",
       "    <tr>\n",
       "      <th>7348</th>\n",
       "      <td>Both Robert Duvall and Glenn Close played thei...</td>\n",
       "      <td>positive</td>\n",
       "    </tr>\n",
       "    <tr>\n",
       "      <th>29904</th>\n",
       "      <td>I think this programme is a load of rubbish. A...</td>\n",
       "      <td>negative</td>\n",
       "    </tr>\n",
       "  </tbody>\n",
       "</table>\n",
       "<p>1000 rows × 2 columns</p>\n",
       "</div>"
      ],
      "text/plain": [
       "                                                  review sentiment\n",
       "27632  This is one of the very, very few films that a...  positive\n",
       "36119  Fred \"The Hammer\" Williamson delivers another ...  negative\n",
       "4796   When the trailer for Accepted first came up, m...  positive\n",
       "3648   Buddy is an entertaining family film set in a ...  positive\n",
       "24501  I thought the kids in the movie were great. I ...  positive\n",
       "...                                                  ...       ...\n",
       "38289  I would rate this film high on my list of Ingr...  positive\n",
       "12693  The main criticism of AT THE EARTH'S CORE is t...  positive\n",
       "21049  It's obvious that the people who made 'Dead At...  negative\n",
       "7348   Both Robert Duvall and Glenn Close played thei...  positive\n",
       "29904  I think this programme is a load of rubbish. A...  negative\n",
       "\n",
       "[1000 rows x 2 columns]"
      ]
     },
     "execution_count": 20,
     "metadata": {},
     "output_type": "execute_result"
    }
   ],
   "source": [
    "sampled_reviews"
   ]
  },
  {
   "cell_type": "code",
   "execution_count": 74,
   "metadata": {},
   "outputs": [
    {
     "name": "stdout",
     "output_type": "stream",
     "text": [
      "Time taken to classify sentiment for each news article using GPT-3.5-turbo:  605.8195822238922\n",
      "Time taken to classify sentiment for each news article using GPT-4o-mini:  1135.01295876503\n"
     ]
    }
   ],
   "source": [
    "gpt3 = GPT(api_key,\"gpt-3.5-turbo\")\n",
    "gpt4 = GPT(api_key,\"gpt-4o-mini\")\n",
    "\n",
    "def parse_sentiment(x):\n",
    "    if \"positive\" in x.lower():\n",
    "        return \"positive\"\n",
    "    elif \"negative\" in x.lower():\n",
    "        return \"negative\"\n",
    "    else:\n",
    "        return \"\"\n",
    "\n",
    "def classify_sentiment_per_row(df, model, column_name):\n",
    "    # Generate summary for each row in the dataframe\n",
    "    df = df.copy()\n",
    "    df[column_name] = df[\"review\"].apply(lambda x: model._classify_sentiment(x))    \n",
    "    # Parse the sentiment\n",
    "    df[column_name] = df[column_name].apply(lambda x: parse_sentiment(x))\n",
    "    return df\n",
    "\n",
    "def classify_sentiment_llama3_per_row(df, model, column_name):\n",
    "    # Generate summary for each row in the dataframe\n",
    "    df = df.copy()\n",
    "    df[column_name] = df[\"review\"].apply(lambda x: classify_sentiment_llama3(model, x))    \n",
    "    # Parse the sentiment\n",
    "    df[column_name] = df[column_name].apply(lambda x: parse_sentiment(x))\n",
    "    return df\n",
    "\n",
    "# GPT-3.5-turbo\n",
    "start_time_3 = time.time()\n",
    "sampled_reviews = classify_sentiment_per_row(sampled_reviews, gpt3, \"sentiment_gpt3\")\n",
    "end_time_3 = time.time()\n",
    "print(\"Time taken to classify sentiment for each news article using GPT-3.5-turbo: \", end_time_3 - start_time_3)\n",
    "\n",
    "\n",
    "# GPT-4o-mini\n",
    "start_time_4 = time.time()\n",
    "sampled_reviews = classify_sentiment_per_row(sampled_reviews, gpt4, \"sentiment_gpt4\")\n",
    "end_time_4 = time.time()\n",
    "print(\"Time taken to classify sentiment for each news article using GPT-4o-mini: \", end_time_4 - start_time_4)\n",
    "\n",
    "sampled_reviews.to_csv('data/imdb_movie_reviews/output/sampled_reviews_gpt.csv', index=False)"
   ]
  },
  {
   "cell_type": "code",
   "execution_count": 61,
   "metadata": {},
   "outputs": [
    {
     "name": "stdout",
     "output_type": "stream",
     "text": [
      "Time taken to classify sentiment for each news article using Llama3.1:  2505.2234642505646\n"
     ]
    }
   ],
   "source": [
    "def classify_sentiment_llama3_per_row(df, model, column_name):\n",
    "    # Generate summary for each row in the dataframe\n",
    "    df = df.copy()\n",
    "    df[column_name] = df[\"review\"].apply(lambda x: classify_sentiment_llama3(model, x))    \n",
    "    # Parse the sentiment\n",
    "    df[column_name] = df[column_name].apply(lambda x: parse_sentiment(x))\n",
    "    return df\n",
    "\n",
    "start_time_6 = time.time()\n",
    "sampled_reviews = classify_sentiment_llama3_per_row(sampled_reviews, \"llama3.1\", \"sentiment_llama3\")\n",
    "end_time_6 = time.time()\n",
    "print(\"Time taken to classify sentiment for each news article using Llama3.1: \", end_time_6 - start_time_6)\n",
    "\n",
    "sampled_reviews.to_csv('data/imdb_movie_reviews/output/sampled_reviews_gpt_llama3.csv', index=False)"
   ]
  },
  {
   "cell_type": "code",
   "execution_count": 75,
   "metadata": {},
   "outputs": [],
   "source": [
    "# Evaluate accuracy\n",
    "\n",
    "ground_truth_sentiments, gpt3_predicted_sentiments = sampled_reviews[\"sentiment\"].tolist(), sampled_reviews[\"sentiment_gpt3\"].tolist()\n",
    "ground_truth_sentiments, gpt4_predicted_sentiments = sampled_reviews[\"sentiment\"].tolist(), sampled_reviews[\"sentiment_gpt4\"].tolist()\n",
    "ground_truth_sentiments, llama3_predicted_sentiments = sampled_reviews[\"sentiment\"].tolist(), sampled_reviews[\"sentiment_llama3\"].tolist()\n",
    "\n",
    "\n",
    "gpt3_accuracy = calculate_accuracy(ground_truth_sentiments, gpt3_predicted_sentiments)\n",
    "gpt4_accuracy = calculate_accuracy(ground_truth_sentiments, gpt4_predicted_sentiments)\n",
    "llama3_accuracy = calculate_accuracy(ground_truth_sentiments, llama3_predicted_sentiments)\n"
   ]
  },
  {
   "cell_type": "code",
   "execution_count": 76,
   "metadata": {},
   "outputs": [
    {
     "name": "stdout",
     "output_type": "stream",
     "text": [
      "GPT-3.5-turbo\n",
      "Accuracy:  0.923\n",
      "\n",
      "\n",
      "GPT-4o-mini\n",
      "Accuracy:  0.9\n",
      "Llama3\n",
      "Accuracy:  0.934\n"
     ]
    }
   ],
   "source": [
    "print(\"GPT-3.5-turbo\")\n",
    "print(\"Accuracy: \", gpt3_accuracy)\n",
    "print(\"\\n\")\n",
    "print(\"GPT-4o-mini\")\n",
    "print(\"Accuracy: \", gpt4_accuracy)\n",
    "print(\"Llama3\")\n",
    "print(\"Accuracy: \", llama3_accuracy)"
   ]
  },
  {
   "cell_type": "markdown",
   "metadata": {},
   "source": [
    "Check examples where Llama3 gets right but GPT4o-mini gets wrong"
   ]
  },
  {
   "cell_type": "code",
   "execution_count": 77,
   "metadata": {},
   "outputs": [
    {
     "name": "stdout",
     "output_type": "stream",
     "text": [
      "Review:  The acting, other reviews notwithstanding, was remarkably well-done. Brad Pitt handles the role of an annoying, obnoxious Austrian climber quite well. Other acting is fine. The story could have been riveting, but somehow, it misses - one never really understands or cares for the characters shown, and so the story, which could have been quite dramatic, fails to draw in this audience.<br /><br />Beautiful scenery and cinematography, a remarkably dramatic true story, important events that shaped the world that we live in - but I could not, try as I might, involve myself in this story. As an unabashed Brad Pitt fan (I consider him one of the top 5 actors of his generation), I expected to *love* this flick - and yet, it left me cold.<br /><br />It could be a failing within myself, but I tend to point toward the creative end of this movie - direction, scriptwriting, production, editing - somehow, they lost me. It's a shame, because it could have been wonderful.<br /><br />Good acting, dramatic story, beautifully shot - it should have been magnificent. It wasn't. Probably worth watching, just to make your own mind up on it - but don't expect too much, and perhaps you won't be as disappointed as I was. Mostly, it bored me.\n",
      "Sentiment GPT-4o-mini:  positive\n",
      "Sentiment Llama3:  negative\n",
      "\n",
      "\n",
      "Review:  I desperately need this on a tape, not a DVD, and soon!<br /><br />I have one nephew who is in the infantry but has not yet deployed, although he set to go to Iraq soon after December 2008. I lost my beloved step son in Ramadi Iraq on 09-15-05 from an unmanned missile in a green zone. I have another nephew who is joining the army as soon as he graduates from high school this spring because he, like his older brother, has some idealized and romanticized idea about what serving in the military is. My stepson died after only 10 days in country and he never went out on any missions so my nephews have no way to reference any of the experiences shown in this candid documentary from any type of personal experiences that might have been conveyed by my now deceased son. <br /><br />There is nothing I can do about those who are in, or now gone, but I have one left that has not raised his hand and been sworn in YET. I desperately want him to do so informed, none of the others did.<br /><br />Pleases help me with this.<br /><br />The movie documentary The Ground Truth is the best visual reference I have ever seen. I need to somehow make my youngest nephew see what he is getting himself into before it is to late. BUT: ( do not laugh )I NEED my mother to see this first. She must actually see and hear these men and women, not simply the idea of them, but the truth of what they will be immersed in, possibly forever. Then she will have the emotional determination to make my brother watch this film and once he has then he may then make his son, my youngest nephew, watch it too. Then, my nephew might begin to take this seriously. <br /><br />((( is there another time when this will be shown on TV ? if so please tell me when ? )))<br /><br />However, my problem is, my mother does not own a DVD player, she still uses video ( is that correct? with tapes ? ) So, I need to find a way for her to be able to watch this film. Can I purchase this from anyone in that form? If not, is there any other way for me to get this in the form of a tape from anyone? Is there any legitimate link from which I can pay to download it onto my computer and then transfer it to a tape. If so who would I contact. I will gladly pay for the privilege providing it is a legitimate link. <br /><br />Or,if you have any alternative ideas I will consider anything you can suggest.<br /><br />Please help me, I have lost one very precious adored and loved one already, I already know my oldest nephew will never be the same when he returns and I may loose him too. I cannot loose three and the emotional toll for all of those that do make it back is too high a price to pay for every male child in my family of that generation. Please help me. I will happily call you, email me a number if that is the best way to get the needed information. Thank you so much for any help you can offer.<br /><br />Sincerely, Lori Swanberg l.swanberg@yahoo.com\n",
      "Sentiment GPT-4o-mini:  negative\n",
      "Sentiment Llama3:  positive\n",
      "\n",
      "\n",
      "Review:  Written by Oliver Stone and directed by Brian De Palma, SCARFACE paints a picture not easily forgotten. Al Pacino turns in a stunning performance as Tony Montana, a Cuban refugee than becomes a powerful player in the drug world as he ruthlessly runs his self made kingdom of crime in Florida. This gangster flick is harsh, violent, loud, gross, unpleasant and must hold the record for uttering the word \"f--k\" the most number of times. Almost three hours long, and yes it can get repulsive. A stout hearted constitution keeps you in your seat cheering for the demise of a ruthless crime lord.<br /><br />Also playing interesting characters are Michelle Pfeiffer, Steven Bauer, Robert Loggia, Mary Elizabeth Mastrantonio, F. Murray Abraham and Angel Salazar. Pacino proves to be one of the greatest of his generation. He manages to bring reality to his character that leaves a strong impression. This will not be a movie for everyone for you leave thinking you walked away from a disaster. Is that powerful enough for you? Crime does not pay for long!\n",
      "Sentiment GPT-4o-mini:  negative\n",
      "Sentiment Llama3:  positive\n",
      "\n",
      "\n"
     ]
    }
   ],
   "source": [
    "examples = sampled_reviews[\n",
    "    (sampled_reviews[\"sentiment\"] != sampled_reviews[\"sentiment_gpt4\"]) &\n",
    "    (sampled_reviews[\"sentiment\"] == sampled_reviews[\"sentiment_llama3\"]) \n",
    "].sample(3)[[\"review\", \"sentiment_gpt4\", \"sentiment_llama3\"]]\n",
    "\n",
    "\n",
    "for row in examples.iterrows():\n",
    "    print(\"Review: \", row[1][\"review\"])\n",
    "    print(\"Sentiment GPT-4o-mini: \", row[1][\"sentiment_gpt4\"])\n",
    "    print(\"Sentiment Llama3: \", row[1][\"sentiment_llama3\"])\n",
    "    print(\"\\n\")"
   ]
  },
  {
   "cell_type": "code",
   "execution_count": null,
   "metadata": {},
   "outputs": [],
   "source": []
  }
 ],
 "metadata": {
  "kernelspec": {
   "display_name": "venv",
   "language": "python",
   "name": "python3"
  },
  "language_info": {
   "codemirror_mode": {
    "name": "ipython",
    "version": 3
   },
   "file_extension": ".py",
   "mimetype": "text/x-python",
   "name": "python",
   "nbconvert_exporter": "python",
   "pygments_lexer": "ipython3",
   "version": "3.11.1"
  }
 },
 "nbformat": 4,
 "nbformat_minor": 2
}
